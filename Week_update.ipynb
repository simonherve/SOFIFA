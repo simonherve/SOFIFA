{
 "cells": [
  {
   "cell_type": "code",
   "execution_count": 35,
   "id": "149bb1da",
   "metadata": {},
   "outputs": [],
   "source": [
    "import selenium\n",
    "PATH = \"C:\\Program Files (x86)\\chromedriver.exe\"\n",
    "from selenium import webdriver\n",
    "from selenium.webdriver.support.ui import WebDriverWait\n",
    "from selenium.webdriver.support import expected_conditions as EC\n",
    "from selenium.webdriver.common.by import By\n",
    "from selenium.common.exceptions import TimeoutException\n",
    "from bs4 import BeautifulSoup\n",
    "import re\n",
    "import pandas as pd"
   ]
  },
  {
   "cell_type": "code",
   "execution_count": 4,
   "id": "383aae10",
   "metadata": {},
   "outputs": [
    {
     "name": "stdout",
     "output_type": "stream",
     "text": [
      "Page is ready!\n"
     ]
    }
   ],
   "source": [
    "link = \"https://sofifa.com/player/158023/lionel-messi/190075/\"\n",
    "driver  = webdriver.Chrome(PATH)\n",
    "driver.get(link)\n",
    "delay = 5\n",
    "try:\n",
    "    myElem = WebDriverWait(driver, delay).until(EC.presence_of_element_located((By.CLASS_NAME, \"dropdown\")))\n",
    "    print(\"Page is ready!\")\n",
    "    html = driver.page_source\n",
    "except TimeoutException:\n",
    "    print(\"Loading took too much time\")\n",
    "driver.close()"
   ]
  },
  {
   "cell_type": "code",
   "execution_count": 6,
   "id": "d64c581f",
   "metadata": {},
   "outputs": [],
   "source": [
    "soup = BeautifulSoup(html, \"html.parser\")"
   ]
  },
  {
   "cell_type": "code",
   "execution_count": 24,
   "id": "2a5b2140",
   "metadata": {},
   "outputs": [],
   "source": [
    "test = soup.find_all(\"div\", {\"class\": \"center\"})[2].find_all(\"div\", {\"class\": \"bp3-menu\"})[1].find_all(\"a\")"
   ]
  },
  {
   "cell_type": "code",
   "execution_count": 33,
   "id": "f20cbb5c",
   "metadata": {},
   "outputs": [],
   "source": [
    "tab = []\n",
    "for elem in test:\n",
    "    tab.append([elem.get(\"href\").split(\"r=\")[1].split(\"&\")[0], elem.get_text()])"
   ]
  },
  {
   "cell_type": "code",
   "execution_count": 36,
   "id": "0decaa87",
   "metadata": {},
   "outputs": [],
   "source": [
    "tab = pd.DataFrame(tab)"
   ]
  },
  {
   "cell_type": "code",
   "execution_count": 38,
   "id": "6fb16307",
   "metadata": {},
   "outputs": [],
   "source": [
    "tab.to_csv(\"update.csv\")"
   ]
  }
 ],
 "metadata": {
  "hide_input": false,
  "kernelspec": {
   "display_name": "Python 3",
   "language": "python",
   "name": "python3"
  },
  "language_info": {
   "codemirror_mode": {
    "name": "ipython",
    "version": 3
   },
   "file_extension": ".py",
   "mimetype": "text/x-python",
   "name": "python",
   "nbconvert_exporter": "python",
   "pygments_lexer": "ipython3",
   "version": "3.8.8"
  }
 },
 "nbformat": 4,
 "nbformat_minor": 5
}
